{
 "cells": [
  {
   "cell_type": "markdown",
   "metadata": {
    "colab_type": "text",
    "id": "Tia3MP1SJpgj"
   },
   "source": [
    "# Springboard Data Science Career Track Unit 4 Challenge - Tier 3 Complete\n",
    "\n",
    "## Objectives\n",
    "Hey! Great job getting through those challenging DataCamp courses. You're learning a lot in a short span of time. \n",
    "\n",
    "In this notebook, you're going to apply the skills you've been learning, bridging the gap between the controlled environment of DataCamp and the *slightly* messier work that data scientists do with actual datasets!\n",
    "\n",
    "Here’s the mystery we’re going to solve: ***which boroughs of London have seen the greatest increase in housing prices, on average, over the last two decades?***\n",
    "\n",
    "\n",
    "A borough is just a fancy word for district. You may be familiar with the five boroughs of New York… well, there are 32 boroughs within Greater London [(here's some info for the curious)](https://en.wikipedia.org/wiki/London_boroughs). Some of them are more desirable areas to live in, and the data will reflect that with a greater rise in housing prices.\n",
    "\n",
    "***This is the Tier 3 notebook, which means it's not filled in at all: we'll just give you the skeleton of a project, the brief and the data. It's up to you to play around with it and see what you can find out! Good luck! If you struggle, feel free to look at easier tiers for help; but try to dip in and out of them, as the more independent work you do, the better it is for your learning!***\n",
    "\n",
    "This challenge will make use of only what you learned in the following DataCamp courses: \n",
    "- Prework courses (Introduction to Python for Data Science, Intermediate Python for Data Science)\n",
    "- Data Types for Data Science\n",
    "- Python Data Science Toolbox (Part One) \n",
    "- pandas Foundations\n",
    "- Manipulating DataFrames with pandas\n",
    "- Merging DataFrames with pandas\n",
    "\n",
    "Of the tools, techniques and concepts in the above DataCamp courses, this challenge should require the application of the following: \n",
    "- **pandas**\n",
    "    - **data ingestion and inspection** (pandas Foundations, Module One) \n",
    "    - **exploratory data analysis** (pandas Foundations, Module Two)\n",
    "    - **tidying and cleaning** (Manipulating DataFrames with pandas, Module Three) \n",
    "    - **transforming DataFrames** (Manipulating DataFrames with pandas, Module One)\n",
    "    - **subsetting DataFrames with lists** (Manipulating DataFrames with pandas, Module One) \n",
    "    - **filtering DataFrames** (Manipulating DataFrames with pandas, Module One) \n",
    "    - **grouping data** (Manipulating DataFrames with pandas, Module Four) \n",
    "    - **melting data** (Manipulating DataFrames with pandas, Module Three) \n",
    "    - **advanced indexing** (Manipulating DataFrames with pandas, Module Four) \n",
    "- **matplotlib** (Intermediate Python for Data Science, Module One)\n",
    "- **fundamental data types** (Data Types for Data Science, Module One) \n",
    "- **dictionaries** (Intermediate Python for Data Science, Module Two)\n",
    "- **handling dates and times** (Data Types for Data Science, Module Four)\n",
    "- **function definition** (Python Data Science Toolbox - Part One, Module One)\n",
    "- **default arguments, variable length, and scope** (Python Data Science Toolbox - Part One, Module Two) \n",
    "- **lambda functions and error handling** (Python Data Science Toolbox - Part One, Module Four) "
   ]
  },
  {
   "cell_type": "markdown",
   "metadata": {
    "colab_type": "text",
    "id": "Ipgd2nV8Jpgl"
   },
   "source": [
    "## The Data Science Pipeline\n",
    "\n",
    "This is Tier Three, so we'll get you started. But after that, it's all in your hands! When you feel done with your investigations, look back over what you've accomplished, and prepare a quick presentation of your findings for the next mentor meeting. \n",
    "\n",
    "Data Science is magical. In this case study, you'll get to apply some complex machine learning algorithms. But as  [David Spiegelhalter](https://www.youtube.com/watch?v=oUs1uvsz0Ok) reminds us, there is no substitute for simply **taking a really, really good look at the data.** Sometimes, this is all we need to answer our question.\n",
    "\n",
    "Data Science projects generally adhere to the four stages of Data Science Pipeline:\n",
    "1. Sourcing and loading \n",
    "2. Cleaning, transforming, and visualizing \n",
    "3. Modeling \n",
    "4. Evaluating and concluding \n"
   ]
  },
  {
   "cell_type": "markdown",
   "metadata": {
    "colab_type": "text",
    "id": "zswDqbefJpgm"
   },
   "source": [
    "### 1. Sourcing and Loading \n",
    "\n",
    "Any Data Science project kicks off by importing  ***pandas***. The documentation of this wonderful library can be found [here](https://pandas.pydata.org/). As you've seen, pandas is conveniently connected to the [Numpy](http://www.numpy.org/) and [Matplotlib](https://matplotlib.org/) libraries. \n",
    "\n",
    "***Hint:*** This part of the data science pipeline will test those skills you acquired in the pandas Foundations course, Module One. "
   ]
  },
  {
   "cell_type": "markdown",
   "metadata": {
    "colab_type": "text",
    "id": "aEau5nEvJpgm"
   },
   "source": [
    "#### 1.1. Importing Libraries"
   ]
  },
  {
   "cell_type": "code",
   "execution_count": 1,
   "metadata": {
    "colab": {},
    "colab_type": "code",
    "id": "7Bt_Q_oPJpgn"
   },
   "outputs": [],
   "source": [
    "# Let's import the pandas, numpy libraries as pd, and np respectively. \n",
    "import pandas as pd\n",
    "import numpy as np\n",
    "\n",
    "# Load the pyplot collection of functions from matplotlib, as plt \n",
    "import matplotlib.pyplot as plt"
   ]
  },
  {
   "cell_type": "markdown",
   "metadata": {
    "colab_type": "text",
    "id": "koUrawxsJpgq"
   },
   "source": [
    "#### 1.2.  Loading the data\n",
    "Your data comes from the [London Datastore](https://data.london.gov.uk/): a free, open-source data-sharing portal for London-oriented datasets. "
   ]
  },
  {
   "cell_type": "code",
   "execution_count": 2,
   "metadata": {
    "colab": {},
    "colab_type": "code",
    "id": "AiLiD4v3Jpgr"
   },
   "outputs": [],
   "source": [
    "# First, make a variable called url_LondonHousePrices, and assign it the following link, enclosed in quotation-marks as a string:\n",
    "# https://data.london.gov.uk/download/uk-house-price-index/70ac0766-8902-4eb5-aab5-01951aaed773/UK%20House%20price%20index.xls\n",
    "\n",
    "url_LondonHousePrices = \"https://data.london.gov.uk/download/uk-house-price-index/70ac0766-8902-4eb5-aab5-01951aaed773/UK%20House%20price%20index.xls\"\n",
    "\n",
    "# The dataset we're interested in contains the Average prices of the houses, and is actually on a particular sheet of the Excel file. \n",
    "# As a result, we need to specify the sheet name in the read_excel() method.\n",
    "# Put this data into a variable called properties.  \n",
    "properties = pd.read_excel(url_LondonHousePrices, sheet_name='Average price', index_col= None)"
   ]
  },
  {
   "cell_type": "markdown",
   "metadata": {
    "colab_type": "text",
    "id": "POukEJXgJpgu"
   },
   "source": [
    "### 2. Cleaning, transforming, and visualizing\n",
    "This second stage is arguably the most important part of any Data Science project. The first thing to do is take a proper look at the data. Cleaning forms the majority of this stage, and can be done both before or after Transformation.\n",
    "\n",
    "The end goal of data cleaning is to have tidy data. When data is tidy: \n",
    "\n",
    "1. Each variable has a column.\n",
    "2. Each observation forms a row.\n",
    "\n",
    "Keep the end goal in mind as you move through this process, every step will take you closer. \n",
    "\n",
    "\n",
    "\n",
    "***Hint:*** This part of the data science pipeline should test those skills you acquired in: \n",
    "- Intermediate Python for data science, all modules.\n",
    "- pandas Foundations, all modules. \n",
    "- Manipulating DataFrames with pandas, all modules.\n",
    "- Data Types for Data Science, Module Four.\n",
    "- Python Data Science Toolbox - Part One, all modules"
   ]
  },
  {
   "cell_type": "markdown",
   "metadata": {
    "colab_type": "text",
    "id": "Te0Q548tnzZa"
   },
   "source": [
    "**2.1. Exploring your data** \n",
    "\n",
    "Think about your pandas functions for checking out a dataframe. "
   ]
  },
  {
   "cell_type": "code",
   "execution_count": 3,
   "metadata": {
    "colab": {},
    "colab_type": "code",
    "id": "Rxirxw_qoAJa",
    "scrolled": true
   },
   "outputs": [
    {
     "name": "stdout",
     "output_type": "stream",
     "text": [
      "DF SHAPE\n",
      "(319, 49)\n",
      "***DF COLUMNS***\n",
      "Index(['Unnamed: 0', 'City of London', 'Barking & Dagenham', 'Barnet',\n",
      "       'Bexley', 'Brent', 'Bromley', 'Camden', 'Croydon', 'Ealing', 'Enfield',\n",
      "       'Greenwich', 'Hackney', 'Hammersmith & Fulham', 'Haringey', 'Harrow',\n",
      "       'Havering', 'Hillingdon', 'Hounslow', 'Islington',\n",
      "       'Kensington & Chelsea', 'Kingston upon Thames', 'Lambeth', 'Lewisham',\n",
      "       'Merton', 'Newham', 'Redbridge', 'Richmond upon Thames', 'Southwark',\n",
      "       'Sutton', 'Tower Hamlets', 'Waltham Forest', 'Wandsworth',\n",
      "       'Westminster', 'Unnamed: 34', 'Inner London', 'Outer London',\n",
      "       'Unnamed: 37', 'NORTH EAST', 'NORTH WEST', 'YORKS & THE HUMBER',\n",
      "       'EAST MIDLANDS', 'WEST MIDLANDS', 'EAST OF ENGLAND', 'LONDON',\n",
      "       'SOUTH EAST', 'SOUTH WEST', 'Unnamed: 47', 'England'],\n",
      "      dtype='object')\n",
      "*** DF TRANSPOSE SHAPE***\n",
      "(49, 319)\n",
      "***DF TRANSPOSE HEAD***\n",
      "                          0                    1                    2    \\\n",
      "Unnamed: 0                NaT  1995-01-01 00:00:00  1995-02-01 00:00:00   \n",
      "City of London      E09000001          91448.98487          82202.77314   \n",
      "Barking & Dagenham  E09000002           50460.2266          51085.77983   \n",
      "Barnet              E09000003          93284.51832          93190.16963   \n",
      "Bexley              E09000004          64958.09036          64787.92069   \n",
      "\n",
      "                                    3                    4    \\\n",
      "Unnamed: 0          1995-03-01 00:00:00  1995-04-01 00:00:00   \n",
      "City of London              79120.70256          77101.20804   \n",
      "Barking & Dagenham          51268.96956          53133.50526   \n",
      "Barnet                      92247.52435          90762.87492   \n",
      "Bexley                      64367.49344          64277.66881   \n",
      "\n",
      "                                    5                    6    \\\n",
      "Unnamed: 0          1995-05-01 00:00:00  1995-06-01 00:00:00   \n",
      "City of London              84409.14932          94900.51244   \n",
      "Barking & Dagenham          53042.24852          53700.34831   \n",
      "Barnet                      90258.00033          90107.23471   \n",
      "Bexley                      63997.13588          64252.32335   \n",
      "\n",
      "                                    7                    8    \\\n",
      "Unnamed: 0          1995-07-01 00:00:00  1995-08-01 00:00:00   \n",
      "City of London              110128.0423          112329.4376   \n",
      "Barking & Dagenham          52113.12157          52232.19868   \n",
      "Barnet                      91441.24768          92361.31512   \n",
      "Bexley                      63722.70055          64432.60005   \n",
      "\n",
      "                                    9    ...                  309  \\\n",
      "Unnamed: 0          1995-09-01 00:00:00  ...  2020-09-01 00:00:00   \n",
      "City of London              104473.1096  ...          798499.1646   \n",
      "Barking & Dagenham          51471.61353  ...          301702.4656   \n",
      "Barnet                      93273.12245  ...            533619.23   \n",
      "Bexley                      64509.54767  ...          345061.4945   \n",
      "\n",
      "                                    310                  311  \\\n",
      "Unnamed: 0          2020-10-01 00:00:00  2020-11-01 00:00:00   \n",
      "City of London              836807.0518          769391.7847   \n",
      "Barking & Dagenham          304852.1338          305012.3291   \n",
      "Barnet                      530353.5205          528816.4928   \n",
      "Bexley                      345404.9836          346252.9145   \n",
      "\n",
      "                                    312                  313  \\\n",
      "Unnamed: 0          2020-12-01 00:00:00  2021-01-01 00:00:00   \n",
      "City of London              801999.0466           760383.824   \n",
      "Barking & Dagenham          309560.1023          311684.9905   \n",
      "Barnet                      532528.0926           538413.261   \n",
      "Bexley                      352260.8385           356024.477   \n",
      "\n",
      "                                    314                  315  \\\n",
      "Unnamed: 0          2021-02-01 00:00:00  2021-03-01 00:00:00   \n",
      "City of London              730222.3496          726743.0772   \n",
      "Barking & Dagenham          315391.0211          314172.1341   \n",
      "Barnet                      538537.8796          542794.6969   \n",
      "Bexley                      359368.9877          362227.5335   \n",
      "\n",
      "                                    316                  317  \\\n",
      "Unnamed: 0          2021-04-01 00:00:00  2021-05-01 00:00:00   \n",
      "City of London              739454.4285          767715.6627   \n",
      "Barking & Dagenham          313280.4834          310713.7151   \n",
      "Barnet                      538530.3551          540475.0074   \n",
      "Bexley                      364947.2557          364266.9832   \n",
      "\n",
      "                                    318  \n",
      "Unnamed: 0          2021-06-01 00:00:00  \n",
      "City of London              756163.9647  \n",
      "Barking & Dagenham          319220.4702  \n",
      "Barnet                      548442.3483  \n",
      "Bexley                      364502.0488  \n",
      "\n",
      "[5 rows x 319 columns]\n"
     ]
    }
   ],
   "source": [
    "print(\"DF SHAPE\")\n",
    "print(properties.shape)\n",
    "print(\"***DF COLUMNS***\")\n",
    "print(properties.columns)\n",
    "print(\"*** DF TRANSPOSE SHAPE***\")\n",
    "print(properties.transpose().shape)\n",
    "print(\"***DF TRANSPOSE HEAD***\")\n",
    "print(properties.transpose().head())\n",
    "\n"
   ]
  },
  {
   "cell_type": "markdown",
   "metadata": {
    "colab_type": "text",
    "id": "tE9Sqt9-oAta"
   },
   "source": [
    "**2.2. Cleaning the data**\n",
    "\n",
    "You might find you need to transpose your dataframe, check out what its row indexes are, and reset the index. You  also might find you need to assign the values of the first row to your column headings  . (Hint: recall the .columns feature of DataFrames, as well as the iloc[] method).\n",
    "\n",
    "Don't be afraid to use StackOverflow for help  with this."
   ]
  },
  {
   "cell_type": "code",
   "execution_count": 4,
   "metadata": {
    "colab": {},
    "colab_type": "code",
    "id": "cdAu1A3YoH_r"
   },
   "outputs": [
    {
     "name": "stdout",
     "output_type": "stream",
     "text": [
      "                          0                    1                    2    \\\n",
      "Unnamed: 0                NaT  1995-01-01 00:00:00  1995-02-01 00:00:00   \n",
      "City of London      E09000001          91448.98487          82202.77314   \n",
      "Barking & Dagenham  E09000002           50460.2266          51085.77983   \n",
      "Barnet              E09000003          93284.51832          93190.16963   \n",
      "Bexley              E09000004          64958.09036          64787.92069   \n",
      "\n",
      "                                    3                    4    \\\n",
      "Unnamed: 0          1995-03-01 00:00:00  1995-04-01 00:00:00   \n",
      "City of London              79120.70256          77101.20804   \n",
      "Barking & Dagenham          51268.96956          53133.50526   \n",
      "Barnet                      92247.52435          90762.87492   \n",
      "Bexley                      64367.49344          64277.66881   \n",
      "\n",
      "                                    5                    6    \\\n",
      "Unnamed: 0          1995-05-01 00:00:00  1995-06-01 00:00:00   \n",
      "City of London              84409.14932          94900.51244   \n",
      "Barking & Dagenham          53042.24852          53700.34831   \n",
      "Barnet                      90258.00033          90107.23471   \n",
      "Bexley                      63997.13588          64252.32335   \n",
      "\n",
      "                                    7                    8    \\\n",
      "Unnamed: 0          1995-07-01 00:00:00  1995-08-01 00:00:00   \n",
      "City of London              110128.0423          112329.4376   \n",
      "Barking & Dagenham          52113.12157          52232.19868   \n",
      "Barnet                      91441.24768          92361.31512   \n",
      "Bexley                      63722.70055          64432.60005   \n",
      "\n",
      "                                    9    ...                  309  \\\n",
      "Unnamed: 0          1995-09-01 00:00:00  ...  2020-09-01 00:00:00   \n",
      "City of London              104473.1096  ...          798499.1646   \n",
      "Barking & Dagenham          51471.61353  ...          301702.4656   \n",
      "Barnet                      93273.12245  ...            533619.23   \n",
      "Bexley                      64509.54767  ...          345061.4945   \n",
      "\n",
      "                                    310                  311  \\\n",
      "Unnamed: 0          2020-10-01 00:00:00  2020-11-01 00:00:00   \n",
      "City of London              836807.0518          769391.7847   \n",
      "Barking & Dagenham          304852.1338          305012.3291   \n",
      "Barnet                      530353.5205          528816.4928   \n",
      "Bexley                      345404.9836          346252.9145   \n",
      "\n",
      "                                    312                  313  \\\n",
      "Unnamed: 0          2020-12-01 00:00:00  2021-01-01 00:00:00   \n",
      "City of London              801999.0466           760383.824   \n",
      "Barking & Dagenham          309560.1023          311684.9905   \n",
      "Barnet                      532528.0926           538413.261   \n",
      "Bexley                      352260.8385           356024.477   \n",
      "\n",
      "                                    314                  315  \\\n",
      "Unnamed: 0          2021-02-01 00:00:00  2021-03-01 00:00:00   \n",
      "City of London              730222.3496          726743.0772   \n",
      "Barking & Dagenham          315391.0211          314172.1341   \n",
      "Barnet                      538537.8796          542794.6969   \n",
      "Bexley                      359368.9877          362227.5335   \n",
      "\n",
      "                                    316                  317  \\\n",
      "Unnamed: 0          2021-04-01 00:00:00  2021-05-01 00:00:00   \n",
      "City of London              739454.4285          767715.6627   \n",
      "Barking & Dagenham          313280.4834          310713.7151   \n",
      "Barnet                      538530.3551          540475.0074   \n",
      "Bexley                      364947.2557          364266.9832   \n",
      "\n",
      "                                    318  \n",
      "Unnamed: 0          2021-06-01 00:00:00  \n",
      "City of London              756163.9647  \n",
      "Barking & Dagenham          319220.4702  \n",
      "Barnet                      548442.3483  \n",
      "Bexley                      364502.0488  \n",
      "\n",
      "[5 rows x 319 columns]\n"
     ]
    }
   ],
   "source": [
    "\n",
    "properties = properties.transpose()\n",
    "print(properties.head())\n",
    "\n"
   ]
  },
  {
   "cell_type": "markdown",
   "metadata": {
    "colab_type": "text",
    "id": "o1uLbJAsoIjK"
   },
   "source": [
    "**2.3. Cleaning the data (part 2)**\n",
    "\n",
    "You might we have to **rename** a couple columns. How do you do this? The clue's pretty bold..."
   ]
  },
  {
   "cell_type": "code",
   "execution_count": null,
   "metadata": {},
   "outputs": [],
   "source": []
  },
  {
   "cell_type": "code",
   "execution_count": 5,
   "metadata": {
    "colab": {},
    "colab_type": "code",
    "id": "GKkmn1AnoVZS",
    "scrolled": true
   },
   "outputs": [
    {
     "name": "stdout",
     "output_type": "stream",
     "text": [
      "I'm cool, thanks.\n",
      "(34, 319)\n",
      "                            0                    1                    2    \\\n",
      "Unnamed: 0                  NaT  1995-01-01 00:00:00  1995-02-01 00:00:00   \n",
      "City of London        E09000001          91448.98487          82202.77314   \n",
      "Barking & Dagenham    E09000002           50460.2266          51085.77983   \n",
      "Barnet                E09000003          93284.51832          93190.16963   \n",
      "Bexley                E09000004          64958.09036          64787.92069   \n",
      "Brent                 E09000005          71306.56698          72022.26197   \n",
      "Bromley               E09000006          81671.47692          81657.55944   \n",
      "Camden                E09000007          120932.8881          119508.8622   \n",
      "Croydon               E09000008          69158.16225          68951.09542   \n",
      "Ealing                E09000009          79885.89069          80897.06551   \n",
      "Enfield               E09000010          72514.69096          73155.19746   \n",
      "Greenwich             E09000011          62300.10169          60993.26863   \n",
      "Hackney               E09000012          61296.52637          63187.08332   \n",
      "Hammersmith & Fulham  E09000013          124902.8602           122087.718   \n",
      "Haringey              E09000014          76287.56947          78901.21036   \n",
      "Harrow                E09000015          84769.52599          83396.10525   \n",
      "Havering              E09000016          68000.13774          69393.51294   \n",
      "Hillingdon            E09000017          73834.82964           75031.0696   \n",
      "Hounslow              E09000018          72231.70537          71051.55852   \n",
      "Islington             E09000019          92516.48557          94342.37334   \n",
      "Kensington & Chelsea  E09000020          182694.8326          182345.2463   \n",
      "Kingston upon Thames  E09000021          80875.84843          81230.13524   \n",
      "Lambeth               E09000022          67770.98843          65381.51908   \n",
      "Lewisham              E09000023          60491.26109          60869.27091   \n",
      "Merton                E09000024           82070.6133          79982.74872   \n",
      "Newham                E09000025          53539.31919          53153.88306   \n",
      "Redbridge             E09000026          72189.58437           72141.6261   \n",
      "Richmond upon Thames  E09000027          109326.1245          111103.0394   \n",
      "Southwark             E09000028          67885.20344           64799.0648   \n",
      "Sutton                E09000029          71536.97357          70893.20851   \n",
      "Tower Hamlets         E09000030          59865.18995          62318.53353   \n",
      "Waltham Forest        E09000031          61319.44913          60252.12246   \n",
      "Wandsworth            E09000032          88559.04381          88641.01678   \n",
      "Westminster           E09000033          133025.2772          131468.3096   \n",
      "\n",
      "                                      3                    4    \\\n",
      "Unnamed: 0            1995-03-01 00:00:00  1995-04-01 00:00:00   \n",
      "City of London                79120.70256          77101.20804   \n",
      "Barking & Dagenham            51268.96956          53133.50526   \n",
      "Barnet                        92247.52435          90762.87492   \n",
      "Bexley                        64367.49344          64277.66881   \n",
      "Brent                         72015.76274          72965.63094   \n",
      "Bromley                       81449.31143          81124.41227   \n",
      "Camden                        120282.2131           120097.899   \n",
      "Croydon                       68712.44341          68610.04641   \n",
      "Ealing                        81379.86288          82188.90498   \n",
      "Enfield                       72190.44144          71442.92235   \n",
      "Greenwich                     61377.83464           61927.7246   \n",
      "Hackney                       63593.29935          65139.64403   \n",
      "Hammersmith & Fulham          120635.9467          121424.6241   \n",
      "Haringey                      78521.94855          79545.57477   \n",
      "Harrow                        83416.23759          83567.88439   \n",
      "Havering                      69368.02407          69444.26215   \n",
      "Hillingdon                    74188.66949          73911.40591   \n",
      "Hounslow                      72097.99411          71890.28339   \n",
      "Islington                     93465.86407          93344.49305   \n",
      "Kensington & Chelsea          182878.8231          184176.9168   \n",
      "Kingston upon Thames          81111.48848          81672.80476   \n",
      "Lambeth                       66336.51868           66388.7716   \n",
      "Lewisham                      60288.03002          59471.03136   \n",
      "Merton                        80661.68279          79990.54333   \n",
      "Newham                        53458.26393          54479.75395   \n",
      "Redbridge                     72501.35502          72228.60295   \n",
      "Richmond upon Thames          107325.4742               106875   \n",
      "Southwark                     65763.29719          63073.62117   \n",
      "Sutton                        70306.83844           69411.9439   \n",
      "Tower Hamlets                 63938.67686          66233.19383   \n",
      "Waltham Forest                60871.08493          60971.39722   \n",
      "Wandsworth                    87124.81523          87026.00225   \n",
      "Westminster                   132260.3417          133370.2036   \n",
      "\n",
      "                                      5                    6    \\\n",
      "Unnamed: 0            1995-05-01 00:00:00  1995-06-01 00:00:00   \n",
      "City of London                84409.14932          94900.51244   \n",
      "Barking & Dagenham            53042.24852          53700.34831   \n",
      "Barnet                        90258.00033          90107.23471   \n",
      "Bexley                        63997.13588          64252.32335   \n",
      "Brent                         73704.04743          74310.48167   \n",
      "Bromley                       81542.61561          82382.83435   \n",
      "Camden                        119929.2782          121887.4625   \n",
      "Croydon                        68844.9169          69052.51103   \n",
      "Ealing                        82077.05525          81630.66181   \n",
      "Enfield                       70630.77955          71348.31147   \n",
      "Greenwich                     63512.99103          64751.56404   \n",
      "Hackney                       66193.99212          66921.17101   \n",
      "Hammersmith & Fulham           124433.539          126175.1513   \n",
      "Haringey                       79374.0349           79956.3621   \n",
      "Harrow                        83853.65615          84173.24689   \n",
      "Havering                      68534.52248          68464.60664   \n",
      "Hillingdon                    73117.12416          74005.00585   \n",
      "Hounslow                      72877.47219          72331.08116   \n",
      "Islington                     94346.39917          97428.94311   \n",
      "Kensington & Chelsea          191474.1141          197265.7602   \n",
      "Kingston upon Thames          82123.51084          82205.66822   \n",
      "Lambeth                       69035.11076          68881.15764   \n",
      "Lewisham                      58551.38387          58041.43543   \n",
      "Merton                        80873.98643          80704.92667   \n",
      "Newham                        55803.95958          56067.76986   \n",
      "Redbridge                     72366.64122           72279.4325   \n",
      "Richmond upon Thames          107707.6799          112865.0542   \n",
      "Southwark                     64420.49933          64155.81449   \n",
      "Sutton                        69759.21989          70125.24728   \n",
      "Tower Hamlets                 66432.85846          66232.16372   \n",
      "Waltham Forest                61494.16938          61547.79643   \n",
      "Wandsworth                    86518.05945           88114.3351   \n",
      "Westminster                   133911.1117          134562.1941   \n",
      "\n",
      "                                      7                    8    \\\n",
      "Unnamed: 0            1995-07-01 00:00:00  1995-08-01 00:00:00   \n",
      "City of London                110128.0423          112329.4376   \n",
      "Barking & Dagenham            52113.12157          52232.19868   \n",
      "Barnet                        91441.24768          92361.31512   \n",
      "Bexley                        63722.70055          64432.60005   \n",
      "Brent                         74127.03788           73547.0411   \n",
      "Bromley                       82898.52264          82054.37156   \n",
      "Camden                        124027.5768          125529.8039   \n",
      "Croydon                       69142.48112          68993.42545   \n",
      "Ealing                         82352.2226          82706.65927   \n",
      "Enfield                       71837.54011          72237.94562   \n",
      "Greenwich                     65486.34112          65076.43195   \n",
      "Hackney                         68390.753          68096.79385   \n",
      "Hammersmith & Fulham          124381.5134          123625.3196   \n",
      "Haringey                      80746.34881          81217.69074   \n",
      "Harrow                        84226.69844          84430.61796   \n",
      "Havering                      68680.83996          69023.36482   \n",
      "Hillingdon                    74671.13263          74967.86534   \n",
      "Hounslow                      73717.78844          74479.94802   \n",
      "Islington                     98976.14077          98951.20791   \n",
      "Kensington & Chelsea          197963.3169          198037.4218   \n",
      "Kingston upon Thames            82525.793          83342.84552   \n",
      "Lambeth                       69608.72242          68840.02827   \n",
      "Lewisham                      58126.37811           58151.3154   \n",
      "Merton                        81055.90335          80781.09186   \n",
      "Newham                        55458.31693          54709.35467   \n",
      "Redbridge                     72880.83974          73275.16891   \n",
      "Richmond upon Thames          114656.6011          112320.4096   \n",
      "Southwark                     67024.74767          65525.94434   \n",
      "Sutton                        70789.57284          69958.41918   \n",
      "Tower Hamlets                 64692.22672          63472.27558   \n",
      "Waltham Forest                61933.52738           61916.4222   \n",
      "Wandsworth                    89830.58934          90560.68078   \n",
      "Westminster                   133450.2162          136581.5082   \n",
      "\n",
      "                                      9    ...                  309  \\\n",
      "Unnamed: 0            1995-09-01 00:00:00  ...  2020-09-01 00:00:00   \n",
      "City of London                104473.1096  ...          798499.1646   \n",
      "Barking & Dagenham            51471.61353  ...          301702.4656   \n",
      "Barnet                        93273.12245  ...            533619.23   \n",
      "Bexley                        64509.54767  ...          345061.4945   \n",
      "Brent                         73789.54287  ...          519561.8277   \n",
      "Bromley                       81440.43008  ...          435059.5551   \n",
      "Camden                        120596.8511  ...           839031.823   \n",
      "Croydon                       69393.50023  ...          377322.4452   \n",
      "Ealing                        82011.08271  ...          490927.7747   \n",
      "Enfield                       71725.22104  ...          399741.7122   \n",
      "Greenwich                     63996.81525  ...          399103.6966   \n",
      "Hackney                       68752.50284  ...           607149.738   \n",
      "Hammersmith & Fulham          123094.0484  ...          752481.0114   \n",
      "Haringey                      82142.89052  ...          570180.4805   \n",
      "Harrow                        83606.97863  ...          454162.7856   \n",
      "Havering                        68108.186  ...          373311.9564   \n",
      "Hillingdon                    73843.55239  ...          410313.6412   \n",
      "Hounslow                       74426.6609  ...          418843.3232   \n",
      "Islington                     99582.63778  ...          691113.9478   \n",
      "Kensington & Chelsea          197047.8333  ...          1347732.643   \n",
      "Kingston upon Thames          85110.96835  ...          499977.6186   \n",
      "Lambeth                       70155.81997  ...           544458.117   \n",
      "Lewisham                      58742.99034  ...          427228.6325   \n",
      "Merton                        80824.70075  ...          525931.4742   \n",
      "Newham                        54585.50364  ...          368466.9133   \n",
      "Redbridge                     73204.02373  ...          427270.4524   \n",
      "Richmond upon Thames          110424.5703  ...           689690.238   \n",
      "Southwark                     63467.00948  ...          510642.8023   \n",
      "Sutton                        69937.40214  ...          381404.5753   \n",
      "Tower Hamlets                 62177.59435  ...          467584.3014   \n",
      "Waltham Forest                61548.15206  ...           450747.785   \n",
      "Wandsworth                     91373.6984  ...          630857.4308   \n",
      "Westminster                   135993.0705  ...          941113.8842   \n",
      "\n",
      "                                      310                  311  \\\n",
      "Unnamed: 0            2020-10-01 00:00:00  2020-11-01 00:00:00   \n",
      "City of London                836807.0518          769391.7847   \n",
      "Barking & Dagenham            304852.1338          305012.3291   \n",
      "Barnet                        530353.5205          528816.4928   \n",
      "Bexley                        345404.9836          346252.9145   \n",
      "Brent                         522239.3216           513100.814   \n",
      "Bromley                       437146.4066          445154.9752   \n",
      "Camden                         827264.235          815442.5796   \n",
      "Croydon                       376775.3407          381291.8052   \n",
      "Ealing                        492155.7477          495013.8996   \n",
      "Enfield                       406689.2705          405834.8632   \n",
      "Greenwich                     400073.7527          403991.2523   \n",
      "Hackney                       592287.1855           597591.302   \n",
      "Hammersmith & Fulham          732566.3134          745044.1986   \n",
      "Haringey                      587338.9937          581958.1356   \n",
      "Harrow                        457571.9533           468407.223   \n",
      "Havering                      372049.7335          373926.8562   \n",
      "Hillingdon                      414765.25          415694.6426   \n",
      "Hounslow                      422508.2338          429110.8779   \n",
      "Islington                     687446.0824          676686.8532   \n",
      "Kensington & Chelsea          1302911.837          1315400.118   \n",
      "Kingston upon Thames          499235.8105          493846.9991   \n",
      "Lambeth                        543795.433          544844.4911   \n",
      "Lewisham                      434286.6237          440733.0139   \n",
      "Merton                        540158.0019          550211.3874   \n",
      "Newham                        373990.7239          377944.5191   \n",
      "Redbridge                     430362.8443          435811.4807   \n",
      "Richmond upon Thames          689039.3023          693000.1936   \n",
      "Southwark                     516213.6146          526872.8065   \n",
      "Sutton                        385399.1338           389500.395   \n",
      "Tower Hamlets                 474452.5927          469783.4353   \n",
      "Waltham Forest                462071.8592          470824.4702   \n",
      "Wandsworth                    628923.0145          621452.3655   \n",
      "Westminster                   908254.8836          902768.5758   \n",
      "\n",
      "                                      312                  313  \\\n",
      "Unnamed: 0            2020-12-01 00:00:00  2021-01-01 00:00:00   \n",
      "City of London                801999.0466           760383.824   \n",
      "Barking & Dagenham            309560.1023          311684.9905   \n",
      "Barnet                        532528.0926           538413.261   \n",
      "Bexley                        352260.8385           356024.477   \n",
      "Brent                         495066.6459          511140.6703   \n",
      "Bromley                       453388.6856          456980.1447   \n",
      "Camden                        786159.1736          790759.3685   \n",
      "Croydon                       380132.1469          383566.4189   \n",
      "Ealing                         495499.091          502532.2675   \n",
      "Enfield                       412872.2663          416962.1146   \n",
      "Greenwich                     401012.0953          409043.8562   \n",
      "Hackney                       589271.7224          595011.4646   \n",
      "Hammersmith & Fulham          728846.8663          738607.9138   \n",
      "Haringey                       584144.363          590212.4757   \n",
      "Harrow                        474609.0823          473889.7707   \n",
      "Havering                      378206.3802          381740.6168   \n",
      "Hillingdon                    426361.8057          425361.5034   \n",
      "Hounslow                       425582.459          427116.5484   \n",
      "Islington                     661169.9422          673957.9133   \n",
      "Kensington & Chelsea          1350334.637          1350104.034   \n",
      "Kingston upon Thames          497767.9431          500706.8099   \n",
      "Lambeth                       538485.0954            544338.48   \n",
      "Lewisham                      440484.5339          443744.4588   \n",
      "Merton                        555218.8649          555391.3576   \n",
      "Newham                         387426.982          387369.2623   \n",
      "Redbridge                     440915.5361          448692.4735   \n",
      "Richmond upon Thames          692690.2272          691813.0183   \n",
      "Southwark                     540038.4516          543557.9083   \n",
      "Sutton                        391576.5318          392574.2622   \n",
      "Tower Hamlets                 468389.6716           463931.641   \n",
      "Waltham Forest                473237.6061          474699.6212   \n",
      "Wandsworth                    607846.3389          602169.2769   \n",
      "Westminster                   916413.8942          934345.5137   \n",
      "\n",
      "                                      314                  315  \\\n",
      "Unnamed: 0            2021-02-01 00:00:00  2021-03-01 00:00:00   \n",
      "City of London                730222.3496          726743.0772   \n",
      "Barking & Dagenham            315391.0211          314172.1341   \n",
      "Barnet                        538537.8796          542794.6969   \n",
      "Bexley                        359368.9877          362227.5335   \n",
      "Brent                         514749.4597          520522.7668   \n",
      "Bromley                       455226.8295          458091.5098   \n",
      "Camden                        792051.1332          809571.3537   \n",
      "Croydon                       385768.6115          391708.0164   \n",
      "Ealing                        502614.7722          505259.5954   \n",
      "Enfield                       420041.7797          421726.1634   \n",
      "Greenwich                     409616.2858          412779.2274   \n",
      "Hackney                       598456.8412          594950.3459   \n",
      "Hammersmith & Fulham          722783.0398          725343.6053   \n",
      "Haringey                      582000.5357          578589.4484   \n",
      "Harrow                        480773.2294          486314.5138   \n",
      "Havering                      385631.2944          385699.8664   \n",
      "Hillingdon                    428073.5413          426493.2421   \n",
      "Hounslow                      424868.4116          428794.2378   \n",
      "Islington                     685332.6442          692828.8208   \n",
      "Kensington & Chelsea          1266479.957          1213674.567   \n",
      "Kingston upon Thames          501467.7225          508014.1235   \n",
      "Lambeth                       532803.8267           537076.634   \n",
      "Lewisham                      445317.5412          448394.4002   \n",
      "Merton                        550685.9475          557666.7742   \n",
      "Newham                        390901.7982          390555.8088   \n",
      "Redbridge                     449980.0818          449320.2978   \n",
      "Richmond upon Thames           682087.041           687833.637   \n",
      "Southwark                     526985.7339          520494.1784   \n",
      "Sutton                        394465.4377          397100.0515   \n",
      "Tower Hamlets                 474983.8771          479443.2705   \n",
      "Waltham Forest                 480465.419          484092.1763   \n",
      "Wandsworth                    595570.1482          599276.4511   \n",
      "Westminster                   949705.9663          958779.9399   \n",
      "\n",
      "                                      316                  317  \\\n",
      "Unnamed: 0            2021-04-01 00:00:00  2021-05-01 00:00:00   \n",
      "City of London                739454.4285          767715.6627   \n",
      "Barking & Dagenham            313280.4834          310713.7151   \n",
      "Barnet                        538530.3551          540475.0074   \n",
      "Bexley                        364947.2557          364266.9832   \n",
      "Brent                         503031.9842          501559.7541   \n",
      "Bromley                       464266.8416          474720.4508   \n",
      "Camden                        840331.2163          860976.7539   \n",
      "Croydon                       391736.3965           392800.552   \n",
      "Ealing                        506920.9648           504435.823   \n",
      "Enfield                       422610.9956          425682.0311   \n",
      "Greenwich                      412642.992          412142.4959   \n",
      "Hackney                       582862.1285          569216.9197   \n",
      "Hammersmith & Fulham          749898.2629          758593.5181   \n",
      "Haringey                      561930.6612          563391.4675   \n",
      "Harrow                        493491.0771          500415.8501   \n",
      "Havering                      387357.0115          390819.2248   \n",
      "Hillingdon                    431153.3327          429925.9455   \n",
      "Hounslow                      439594.2047          441541.7474   \n",
      "Islington                     679656.6861          667943.0126   \n",
      "Kensington & Chelsea          1176420.352          1222058.463   \n",
      "Kingston upon Thames          506718.9359          509179.1879   \n",
      "Lambeth                       533388.7658          551511.0509   \n",
      "Lewisham                      447296.4131          437082.6904   \n",
      "Merton                        550516.6451          544111.1293   \n",
      "Newham                        385798.2144          384463.1295   \n",
      "Redbridge                      448614.612          450273.7628   \n",
      "Richmond upon Thames          695866.6141          705512.7148   \n",
      "Southwark                     513893.3796          511380.6445   \n",
      "Sutton                        399069.3114          399000.7755   \n",
      "Tower Hamlets                 495089.5192          477496.3158   \n",
      "Waltham Forest                484024.4225          486482.6983   \n",
      "Wandsworth                     602845.017          623462.3537   \n",
      "Westminster                   970656.1119          931445.1297   \n",
      "\n",
      "                                      318  \n",
      "Unnamed: 0            2021-06-01 00:00:00  \n",
      "City of London                756163.9647  \n",
      "Barking & Dagenham            319220.4702  \n",
      "Barnet                        548442.3483  \n",
      "Bexley                        364502.0488  \n",
      "Brent                         512645.4978  \n",
      "Bromley                       486648.1468  \n",
      "Camden                        878870.1571  \n",
      "Croydon                       389642.1013  \n",
      "Ealing                        508177.2699  \n",
      "Enfield                       432250.4662  \n",
      "Greenwich                       427496.91  \n",
      "Hackney                       569907.2866  \n",
      "Hammersmith & Fulham           757876.508  \n",
      "Haringey                      556723.2158  \n",
      "Harrow                        522142.5807  \n",
      "Havering                      394578.7924  \n",
      "Hillingdon                     430742.273  \n",
      "Hounslow                      438224.5413  \n",
      "Islington                     663055.1614  \n",
      "Kensington & Chelsea          1239830.619  \n",
      "Kingston upon Thames          518929.9556  \n",
      "Lambeth                       545267.0224  \n",
      "Lewisham                      438598.6355  \n",
      "Merton                        536716.1565  \n",
      "Newham                        388708.0929  \n",
      "Redbridge                     452546.9337  \n",
      "Richmond upon Thames          702845.5619  \n",
      "Southwark                       503463.63  \n",
      "Sutton                        394446.8055  \n",
      "Tower Hamlets                  468116.935  \n",
      "Waltham Forest                485019.5045  \n",
      "Wandsworth                    637662.1042  \n",
      "Westminster                   895149.9974  \n",
      "\n",
      "[34 rows x 319 columns]\n"
     ]
    }
   ],
   "source": [
    "print(\"I'm cool, thanks.\")\n",
    "dropped_prop = properties.drop(['Unnamed: 34', 'Unnamed: 37', 'Unnamed: 47', 'NORTH EAST', 'NORTH WEST', \n",
    "                                'EAST MIDLANDS', 'YORKS & THE HUMBER','WEST MIDLANDS', 'EAST OF ENGLAND', 'SOUTH EAST',\n",
    "                                'SOUTH WEST','England','Inner London','Outer London','LONDON'] )\n",
    "print(dropped_prop.shape)\n",
    "print(dropped_prop)"
   ]
  },
  {
   "cell_type": "markdown",
   "metadata": {
    "colab_type": "text",
    "id": "jy8BzXHmoWEw"
   },
   "source": [
    "**2.4.Transforming the data**\n",
    "\n",
    "Remember what Wes McKinney said about tidy data? \n",
    "\n",
    "You might need to **melt** your DataFrame here. "
   ]
  },
  {
   "cell_type": "code",
   "execution_count": 6,
   "metadata": {
    "colab": {},
    "colab_type": "code",
    "id": "S2wM0qLuo2Zt"
   },
   "outputs": [],
   "source": [
    "date_headed = dropped_prop.rename(columns=dropped_prop.iloc[0])\n",
    "date_headed = date_headed.drop(['Unnamed: 0'])"
   ]
  },
  {
   "cell_type": "markdown",
   "metadata": {
    "colab_type": "text",
    "id": "7kIsgAo7o3mf"
   },
   "source": [
    "Remember to make sure your column data types are all correct. Average prices, for example, should be floating point numbers... "
   ]
  },
  {
   "cell_type": "code",
   "execution_count": 7,
   "metadata": {
    "colab": {},
    "colab_type": "code",
    "id": "ZcR4IHbcpOaq"
   },
   "outputs": [
    {
     "name": "stdout",
     "output_type": "stream",
     "text": [
      "                          NaT   1995-01-01   1995-02-01   1995-03-01  \\\n",
      "City of London      E09000001  91448.98487  82202.77314  79120.70256   \n",
      "Barking & Dagenham  E09000002   50460.2266  51085.77983  51268.96956   \n",
      "\n",
      "                     1995-04-01   1995-05-01   1995-06-01   1995-07-01  \\\n",
      "City of London      77101.20804  84409.14932  94900.51244  110128.0423   \n",
      "Barking & Dagenham  53133.50526  53042.24852  53700.34831  52113.12157   \n",
      "\n",
      "                     1995-08-01   1995-09-01  ...   2020-09-01   2020-10-01  \\\n",
      "City of London      112329.4376  104473.1096  ...  798499.1646  836807.0518   \n",
      "Barking & Dagenham  52232.19868  51471.61353  ...  301702.4656  304852.1338   \n",
      "\n",
      "                     2020-11-01   2020-12-01   2021-01-01   2021-02-01  \\\n",
      "City of London      769391.7847  801999.0466   760383.824  730222.3496   \n",
      "Barking & Dagenham  305012.3291  309560.1023  311684.9905  315391.0211   \n",
      "\n",
      "                     2021-03-01   2021-04-01   2021-05-01   2021-06-01  \n",
      "City of London      726743.0772  739454.4285  767715.6627  756163.9647  \n",
      "Barking & Dagenham  314172.1341  313280.4834  310713.7151  319220.4702  \n",
      "\n",
      "[2 rows x 319 columns]\n"
     ]
    }
   ],
   "source": [
    "print(date_headed.head(2))\n"
   ]
  },
  {
   "cell_type": "code",
   "execution_count": 8,
   "metadata": {
    "scrolled": true
   },
   "outputs": [
    {
     "name": "stdout",
     "output_type": "stream",
     "text": [
      "                index        NaN 1995-01-01 00:00:00 1995-02-01 00:00:00  \\\n",
      "0      City of London  E09000001         91448.98487         82202.77314   \n",
      "1  Barking & Dagenham  E09000002          50460.2266         51085.77983   \n",
      "2              Barnet  E09000003         93284.51832         93190.16963   \n",
      "\n",
      "  1995-03-01 00:00:00 1995-04-01 00:00:00 1995-05-01 00:00:00  \\\n",
      "0         79120.70256         77101.20804         84409.14932   \n",
      "1         51268.96956         53133.50526         53042.24852   \n",
      "2         92247.52435         90762.87492         90258.00033   \n",
      "\n",
      "  1995-06-01 00:00:00 1995-07-01 00:00:00 1995-08-01 00:00:00  ...  \\\n",
      "0         94900.51244         110128.0423         112329.4376  ...   \n",
      "1         53700.34831         52113.12157         52232.19868  ...   \n",
      "2         90107.23471         91441.24768         92361.31512  ...   \n",
      "\n",
      "  2020-09-01 00:00:00 2020-10-01 00:00:00 2020-11-01 00:00:00  \\\n",
      "0         798499.1646         836807.0518         769391.7847   \n",
      "1         301702.4656         304852.1338         305012.3291   \n",
      "2           533619.23         530353.5205         528816.4928   \n",
      "\n",
      "  2020-12-01 00:00:00 2021-01-01 00:00:00 2021-02-01 00:00:00  \\\n",
      "0         801999.0466          760383.824         730222.3496   \n",
      "1         309560.1023         311684.9905         315391.0211   \n",
      "2         532528.0926          538413.261         538537.8796   \n",
      "\n",
      "  2021-03-01 00:00:00 2021-04-01 00:00:00 2021-05-01 00:00:00  \\\n",
      "0         726743.0772         739454.4285         767715.6627   \n",
      "1         314172.1341         313280.4834         310713.7151   \n",
      "2         542794.6969         538530.3551         540475.0074   \n",
      "\n",
      "  2021-06-01 00:00:00  \n",
      "0         756163.9647  \n",
      "1         319220.4702  \n",
      "2         548442.3483  \n",
      "\n",
      "[3 rows x 320 columns]\n"
     ]
    }
   ],
   "source": [
    "print(date_headed.reset_index().head(3))"
   ]
  },
  {
   "cell_type": "code",
   "execution_count": 9,
   "metadata": {
    "scrolled": true
   },
   "outputs": [],
   "source": [
    "melt_prep = date_headed.reset_index()"
   ]
  },
  {
   "cell_type": "code",
   "execution_count": 10,
   "metadata": {
    "scrolled": true
   },
   "outputs": [
    {
     "name": "stdout",
     "output_type": "stream",
     "text": [
      "Index([   'London_Borough',                'ID', 1995-01-01 00:00:00,\n",
      "       1995-02-01 00:00:00, 1995-03-01 00:00:00, 1995-04-01 00:00:00,\n",
      "       1995-05-01 00:00:00, 1995-06-01 00:00:00, 1995-07-01 00:00:00,\n",
      "       1995-08-01 00:00:00,\n",
      "       ...\n",
      "       2020-09-01 00:00:00, 2020-10-01 00:00:00, 2020-11-01 00:00:00,\n",
      "       2020-12-01 00:00:00, 2021-01-01 00:00:00, 2021-02-01 00:00:00,\n",
      "       2021-03-01 00:00:00, 2021-04-01 00:00:00, 2021-05-01 00:00:00,\n",
      "       2021-06-01 00:00:00],\n",
      "      dtype='object', length=320)\n"
     ]
    }
   ],
   "source": [
    "melt_prep = melt_prep.rename(columns={'index': 'London_Borough', pd.NaT: 'ID'})\n",
    "print(melt_prep.columns)"
   ]
  },
  {
   "cell_type": "code",
   "execution_count": 11,
   "metadata": {},
   "outputs": [],
   "source": [
    "tall_data = pd.melt(melt_prep, id_vars = ['London_Borough', 'ID'])"
   ]
  },
  {
   "cell_type": "code",
   "execution_count": 12,
   "metadata": {},
   "outputs": [
    {
     "name": "stdout",
     "output_type": "stream",
     "text": [
      "           London_Borough         ID   variable        value\n",
      "4225   Barking & Dagenham  E09000002 2005-09-01  163111.2343\n",
      "3829   Barking & Dagenham  E09000002 2004-09-01  162821.4056\n",
      "6271   Barking & Dagenham  E09000002 2010-11-01  169249.8164\n",
      "6469   Barking & Dagenham  E09000002 2011-05-01  162703.4802\n",
      "8548   Barking & Dagenham  E09000002 2016-08-01  279483.7457\n",
      "...                   ...        ...        ...          ...\n",
      "6863          Westminster  E09000033 2012-04-01   650451.691\n",
      "6896          Westminster  E09000033 2012-05-01  664967.2706\n",
      "6929          Westminster  E09000033 2012-06-01  704719.9598\n",
      "6698          Westminster  E09000033 2011-11-01  636095.2132\n",
      "10493         Westminster  E09000033 2021-06-01  895149.9974\n",
      "\n",
      "[10494 rows x 4 columns]\n"
     ]
    }
   ],
   "source": [
    "print(tall_data.sort_values('London_Borough'))"
   ]
  },
  {
   "cell_type": "code",
   "execution_count": 13,
   "metadata": {},
   "outputs": [],
   "source": [
    "tall_data = tall_data.rename(columns = {'variable':'Month', 'value':'avg_monthly_price'})"
   ]
  },
  {
   "cell_type": "code",
   "execution_count": 14,
   "metadata": {},
   "outputs": [
    {
     "name": "stdout",
     "output_type": "stream",
     "text": [
      "       London_Borough         ID      Month avg_monthly_price\n",
      "0      City of London  E09000001 1995-01-01       91448.98487\n",
      "1  Barking & Dagenham  E09000002 1995-01-01        50460.2266\n",
      "2              Barnet  E09000003 1995-01-01       93284.51832\n",
      "3              Bexley  E09000004 1995-01-01       64958.09036\n",
      "4               Brent  E09000005 1995-01-01       71306.56698\n"
     ]
    }
   ],
   "source": [
    "print(tall_data.head())"
   ]
  },
  {
   "cell_type": "code",
   "execution_count": 15,
   "metadata": {},
   "outputs": [
    {
     "name": "stdout",
     "output_type": "stream",
     "text": [
      "London_Borough       10494\n",
      "ID                   10494\n",
      "Month                10494\n",
      "avg_monthly_price    10494\n",
      "dtype: int64\n",
      "London_Borough               object\n",
      "ID                           object\n",
      "Month                datetime64[ns]\n",
      "avg_monthly_price            object\n",
      "dtype: object\n",
      "(10494, 4)\n"
     ]
    }
   ],
   "source": [
    "print(tall_data.count())\n",
    "print(tall_data.dtypes)\n",
    "print(tall_data.shape)"
   ]
  },
  {
   "cell_type": "code",
   "execution_count": 16,
   "metadata": {},
   "outputs": [],
   "source": [
    "tall_data['Average_price'] = pd.to_numeric(tall_data['avg_monthly_price'])"
   ]
  },
  {
   "cell_type": "code",
   "execution_count": 17,
   "metadata": {},
   "outputs": [
    {
     "name": "stdout",
     "output_type": "stream",
     "text": [
      "London_Borough               object\n",
      "ID                           object\n",
      "Month                datetime64[ns]\n",
      "avg_monthly_price            object\n",
      "Average_price               float64\n",
      "dtype: object\n"
     ]
    }
   ],
   "source": [
    "print(tall_data.dtypes)"
   ]
  },
  {
   "cell_type": "code",
   "execution_count": 18,
   "metadata": {},
   "outputs": [
    {
     "name": "stdout",
     "output_type": "stream",
     "text": [
      "Empty DataFrame\n",
      "Columns: [London_Borough, ID, Month, avg_monthly_price, Average_price]\n",
      "Index: []\n",
      "Heck yes.\n"
     ]
    }
   ],
   "source": [
    "print(tall_data[tall_data['ID'].isna()])\n",
    "print(\"Heck yes.\")"
   ]
  },
  {
   "cell_type": "code",
   "execution_count": 19,
   "metadata": {},
   "outputs": [
    {
     "name": "stdout",
     "output_type": "stream",
     "text": [
      "['City of London' 'Barking & Dagenham' 'Barnet' 'Bexley' 'Brent' 'Bromley'\n",
      " 'Camden' 'Croydon' 'Ealing' 'Enfield' 'Greenwich' 'Hackney'\n",
      " 'Hammersmith & Fulham' 'Haringey' 'Harrow' 'Havering' 'Hillingdon'\n",
      " 'Hounslow' 'Islington' 'Kensington & Chelsea' 'Kingston upon Thames'\n",
      " 'Lambeth' 'Lewisham' 'Merton' 'Newham' 'Redbridge' 'Richmond upon Thames'\n",
      " 'Southwark' 'Sutton' 'Tower Hamlets' 'Waltham Forest' 'Wandsworth'\n",
      " 'Westminster']\n"
     ]
    }
   ],
   "source": [
    "print(tall_data[\"London_Borough\"].unique())"
   ]
  },
  {
   "cell_type": "markdown",
   "metadata": {
    "colab_type": "text",
    "id": "knLUXHLypOtw"
   },
   "source": [
    "**2.5. Cleaning the data (part 3)**\n",
    "\n",
    "Do we have an equal number of observations in the ID, Average Price, Month, and London Borough columns? Remember that there are only 32 London Boroughs. How many entries do you have in that column? \n",
    "\n",
    "Check out the contents of the London Borough column, and if you find null values, get rid of them however you see fit. "
   ]
  },
  {
   "cell_type": "code",
   "execution_count": 20,
   "metadata": {
    "colab": {},
    "colab_type": "code",
    "id": "BnvTW5a3p0fC"
   },
   "outputs": [
    {
     "data": {
      "text/html": [
       "<div>\n",
       "<style scoped>\n",
       "    .dataframe tbody tr th:only-of-type {\n",
       "        vertical-align: middle;\n",
       "    }\n",
       "\n",
       "    .dataframe tbody tr th {\n",
       "        vertical-align: top;\n",
       "    }\n",
       "\n",
       "    .dataframe thead th {\n",
       "        text-align: right;\n",
       "    }\n",
       "</style>\n",
       "<table border=\"1\" class=\"dataframe\">\n",
       "  <thead>\n",
       "    <tr style=\"text-align: right;\">\n",
       "      <th></th>\n",
       "      <th>London_Borough</th>\n",
       "      <th>ID</th>\n",
       "      <th>Month</th>\n",
       "      <th>avg_monthly_price</th>\n",
       "      <th>Average_price</th>\n",
       "      <th>Year</th>\n",
       "    </tr>\n",
       "  </thead>\n",
       "  <tbody>\n",
       "    <tr>\n",
       "      <th>10489</th>\n",
       "      <td>Sutton</td>\n",
       "      <td>E09000029</td>\n",
       "      <td>2021-06-01</td>\n",
       "      <td>394446.8055</td>\n",
       "      <td>394446.8055</td>\n",
       "      <td>2021</td>\n",
       "    </tr>\n",
       "    <tr>\n",
       "      <th>10490</th>\n",
       "      <td>Tower Hamlets</td>\n",
       "      <td>E09000030</td>\n",
       "      <td>2021-06-01</td>\n",
       "      <td>468116.935</td>\n",
       "      <td>468116.9350</td>\n",
       "      <td>2021</td>\n",
       "    </tr>\n",
       "    <tr>\n",
       "      <th>10491</th>\n",
       "      <td>Waltham Forest</td>\n",
       "      <td>E09000031</td>\n",
       "      <td>2021-06-01</td>\n",
       "      <td>485019.5045</td>\n",
       "      <td>485019.5045</td>\n",
       "      <td>2021</td>\n",
       "    </tr>\n",
       "    <tr>\n",
       "      <th>10492</th>\n",
       "      <td>Wandsworth</td>\n",
       "      <td>E09000032</td>\n",
       "      <td>2021-06-01</td>\n",
       "      <td>637662.1042</td>\n",
       "      <td>637662.1042</td>\n",
       "      <td>2021</td>\n",
       "    </tr>\n",
       "    <tr>\n",
       "      <th>10493</th>\n",
       "      <td>Westminster</td>\n",
       "      <td>E09000033</td>\n",
       "      <td>2021-06-01</td>\n",
       "      <td>895149.9974</td>\n",
       "      <td>895149.9974</td>\n",
       "      <td>2021</td>\n",
       "    </tr>\n",
       "  </tbody>\n",
       "</table>\n",
       "</div>"
      ],
      "text/plain": [
       "       London_Borough         ID      Month avg_monthly_price  Average_price  \\\n",
       "10489          Sutton  E09000029 2021-06-01       394446.8055    394446.8055   \n",
       "10490   Tower Hamlets  E09000030 2021-06-01        468116.935    468116.9350   \n",
       "10491  Waltham Forest  E09000031 2021-06-01       485019.5045    485019.5045   \n",
       "10492      Wandsworth  E09000032 2021-06-01       637662.1042    637662.1042   \n",
       "10493     Westminster  E09000033 2021-06-01       895149.9974    895149.9974   \n",
       "\n",
       "       Year  \n",
       "10489  2021  \n",
       "10490  2021  \n",
       "10491  2021  \n",
       "10492  2021  \n",
       "10493  2021  "
      ]
     },
     "execution_count": 20,
     "metadata": {},
     "output_type": "execute_result"
    }
   ],
   "source": [
    "# Try this yourself. \n",
    "tall_data['Year'] = tall_data['Month'].apply(lambda t: t.year)\n",
    "\n",
    "# Call the tail() method on df\n",
    "tall_data.tail()"
   ]
  },
  {
   "cell_type": "markdown",
   "metadata": {
    "colab_type": "text",
    "id": "PGEx6mJsp6dG"
   },
   "source": [
    "**2.6. Visualizing the data**\n",
    "\n",
    "To visualize the data, why not subset on a particular London Borough? Maybe do a line plot of Month against Average Price?"
   ]
  },
  {
   "cell_type": "code",
   "execution_count": null,
   "metadata": {
    "colab": {},
    "colab_type": "code",
    "id": "nAg5pT9cqHAR"
   },
   "outputs": [],
   "source": []
  },
  {
   "cell_type": "markdown",
   "metadata": {
    "colab_type": "text",
    "id": "aWTPqSJeqHnC"
   },
   "source": [
    "To limit the number of data points you have, you might want to extract the year from every month value your *Month* column. \n",
    "\n",
    "To this end, you *could* apply a ***lambda function***. Your logic could work as follows:\n",
    "1. look through the `Month` column\n",
    "2. extract the year from each individual value in that column \n",
    "3. store that corresponding year as separate column. \n",
    "\n",
    "Whether you go ahead with this is up to you. Just so long as you answer our initial brief: which boroughs of London have seen the greatest house price increase, on average, over the past two decades? "
   ]
  },
  {
   "cell_type": "code",
   "execution_count": 21,
   "metadata": {
    "colab": {},
    "colab_type": "code",
    "id": "e0DF92cyqnu8"
   },
   "outputs": [
    {
     "name": "stdout",
     "output_type": "stream",
     "text": [
      "                           Average_price\n",
      "London_Borough       Year               \n",
      "Merton               2001  167046.236783\n",
      "Barnet               2014  430363.351225\n",
      "Westminster          2002  339622.391283\n",
      "Barnet               2019  520523.756867\n",
      "Kingston upon Thames 2008  310396.411283\n",
      "Hammersmith & Fulham 2002  302459.055983\n",
      "Harrow               2001  170250.168608\n",
      "Camden               2012  586165.935192\n",
      "Haringey             2021  572141.300717\n",
      "Barking & Dagenham   1999   65320.934441\n"
     ]
    }
   ],
   "source": [
    "grouped_data = tall_data.groupby(by=['London_Borough', 'Year']).mean()\n",
    "print(grouped_data.sample(10))"
   ]
  },
  {
   "cell_type": "code",
   "execution_count": 22,
   "metadata": {},
   "outputs": [
    {
     "name": "stdout",
     "output_type": "stream",
     "text": [
      "       London_Borough  Year  Average_price\n",
      "0  Barking & Dagenham  1995   51817.969390\n",
      "1  Barking & Dagenham  1996   51718.192690\n",
      "2  Barking & Dagenham  1997   55974.262309\n",
      "3  Barking & Dagenham  1998   60285.821083\n",
      "4  Barking & Dagenham  1999   65320.934441\n"
     ]
    }
   ],
   "source": [
    "grouped_data = grouped_data.reset_index()\n",
    "print(grouped_data.head())\n",
    "\n"
   ]
  },
  {
   "cell_type": "markdown",
   "metadata": {
    "colab_type": "text",
    "id": "2knuTxAEqoJ4"
   },
   "source": [
    "**3. Modeling**\n",
    "\n",
    "Consider creating a function that will calculate a ratio of house prices, comparing the price of a house in 2018 to the price in 1998.\n",
    "\n",
    "Consider calling this function create_price_ratio.\n",
    "\n",
    "You'd want this function to:\n",
    "1. Take a filter of dfg, specifically where this filter constrains the London_Borough, as an argument. For example, one admissible argument should be: dfg[dfg['London_Borough']=='Camden'].\n",
    "2. Get the Average Price for that Borough, for the years 1998 and 2018.\n",
    "4. Calculate the ratio of the Average Price for 1998 divided by the Average Price for 2018.\n",
    "5. Return that ratio.\n",
    "\n",
    "Once you've written this function, you ultimately want to use it to iterate through all the unique London_Boroughs and work out the ratio capturing the difference of house prices between 1998 and 2018.\n",
    "\n",
    "Bear in mind: you don't have to write a function like this if you don't want to. If you can solve the brief otherwise, then great! \n",
    "\n",
    "***Hint***: This section should test the skills you acquired in:\n",
    "- Python Data Science Toolbox - Part One, all modules"
   ]
  },
  {
   "cell_type": "code",
   "execution_count": 23,
   "metadata": {
    "colab": {},
    "colab_type": "code",
    "id": "cKTyr437UgDa"
   },
   "outputs": [],
   "source": [
    "def create_price_ratio(d):\n",
    "    y1998 = float(d['Average_price'][d['Year']==1998])\n",
    "    y2018 = float(d['Average_price'][d['Year']==2018])\n",
    "    ratio = [y1998/y2018]\n",
    "    return ratio"
   ]
  },
  {
   "cell_type": "code",
   "execution_count": 24,
   "metadata": {},
   "outputs": [],
   "source": [
    "final = {}\n",
    "for b in grouped_data['London_Borough'].unique():\n",
    "    borough = grouped_data[grouped_data['London_Borough'] == b]\n",
    "    final[b] = create_price_ratio(borough)"
   ]
  },
  {
   "cell_type": "code",
   "execution_count": 25,
   "metadata": {},
   "outputs": [],
   "source": [
    "df_ratios = pd.DataFrame(final)"
   ]
  },
  {
   "cell_type": "code",
   "execution_count": 26,
   "metadata": {},
   "outputs": [
    {
     "name": "stdout",
     "output_type": "stream",
     "text": [
      "<bound method NDFrame.head of    Barking & Dagenham    Barnet    Bexley     Brent   Bromley   Camden  \\\n",
      "0            0.204223  0.229453  0.235351  0.204309  0.244213  0.20262   \n",
      "\n",
      "   City of London   Croydon   Ealing   Enfield  ...    Merton    Newham  \\\n",
      "0        0.188622  0.238033  0.23194  0.234551  ...  0.210914  0.188488   \n",
      "\n",
      "   Redbridge  Richmond upon Thames  Southwark    Sutton  Tower Hamlets  \\\n",
      "0   0.223655              0.249678   0.181275  0.242806       0.216137   \n",
      "\n",
      "   Waltham Forest  Wandsworth  Westminster  \n",
      "0        0.171387    0.210185     0.186791  \n",
      "\n",
      "[1 rows x 33 columns]>\n"
     ]
    }
   ],
   "source": [
    "print(df_ratios.head)"
   ]
  },
  {
   "cell_type": "code",
   "execution_count": 27,
   "metadata": {},
   "outputs": [
    {
     "data": {
      "text/html": [
       "<div>\n",
       "<style scoped>\n",
       "    .dataframe tbody tr th:only-of-type {\n",
       "        vertical-align: middle;\n",
       "    }\n",
       "\n",
       "    .dataframe tbody tr th {\n",
       "        vertical-align: top;\n",
       "    }\n",
       "\n",
       "    .dataframe thead th {\n",
       "        text-align: right;\n",
       "    }\n",
       "</style>\n",
       "<table border=\"1\" class=\"dataframe\">\n",
       "  <thead>\n",
       "    <tr style=\"text-align: right;\">\n",
       "      <th></th>\n",
       "      <th>index</th>\n",
       "      <th>0</th>\n",
       "    </tr>\n",
       "  </thead>\n",
       "  <tbody>\n",
       "    <tr>\n",
       "      <th>0</th>\n",
       "      <td>Barking &amp; Dagenham</td>\n",
       "      <td>0.204223</td>\n",
       "    </tr>\n",
       "    <tr>\n",
       "      <th>1</th>\n",
       "      <td>Barnet</td>\n",
       "      <td>0.229453</td>\n",
       "    </tr>\n",
       "    <tr>\n",
       "      <th>2</th>\n",
       "      <td>Bexley</td>\n",
       "      <td>0.235351</td>\n",
       "    </tr>\n",
       "    <tr>\n",
       "      <th>3</th>\n",
       "      <td>Brent</td>\n",
       "      <td>0.204309</td>\n",
       "    </tr>\n",
       "    <tr>\n",
       "      <th>4</th>\n",
       "      <td>Bromley</td>\n",
       "      <td>0.244213</td>\n",
       "    </tr>\n",
       "  </tbody>\n",
       "</table>\n",
       "</div>"
      ],
      "text/plain": [
       "                index         0\n",
       "0  Barking & Dagenham  0.204223\n",
       "1              Barnet  0.229453\n",
       "2              Bexley  0.235351\n",
       "3               Brent  0.204309\n",
       "4             Bromley  0.244213"
      ]
     },
     "execution_count": 27,
     "metadata": {},
     "output_type": "execute_result"
    }
   ],
   "source": [
    "df_ratios_T = df_ratios.transpose()\n",
    "df_ratios = df_ratios_T.reset_index()\n",
    "df_ratios.head()"
   ]
  },
  {
   "cell_type": "code",
   "execution_count": 28,
   "metadata": {},
   "outputs": [
    {
     "data": {
      "text/html": [
       "<div>\n",
       "<style scoped>\n",
       "    .dataframe tbody tr th:only-of-type {\n",
       "        vertical-align: middle;\n",
       "    }\n",
       "\n",
       "    .dataframe tbody tr th {\n",
       "        vertical-align: top;\n",
       "    }\n",
       "\n",
       "    .dataframe thead th {\n",
       "        text-align: right;\n",
       "    }\n",
       "</style>\n",
       "<table border=\"1\" class=\"dataframe\">\n",
       "  <thead>\n",
       "    <tr style=\"text-align: right;\">\n",
       "      <th></th>\n",
       "      <th>Borough</th>\n",
       "      <th>2018</th>\n",
       "    </tr>\n",
       "  </thead>\n",
       "  <tbody>\n",
       "    <tr>\n",
       "      <th>0</th>\n",
       "      <td>Barking &amp; Dagenham</td>\n",
       "      <td>0.204223</td>\n",
       "    </tr>\n",
       "    <tr>\n",
       "      <th>1</th>\n",
       "      <td>Barnet</td>\n",
       "      <td>0.229453</td>\n",
       "    </tr>\n",
       "    <tr>\n",
       "      <th>2</th>\n",
       "      <td>Bexley</td>\n",
       "      <td>0.235351</td>\n",
       "    </tr>\n",
       "    <tr>\n",
       "      <th>3</th>\n",
       "      <td>Brent</td>\n",
       "      <td>0.204309</td>\n",
       "    </tr>\n",
       "    <tr>\n",
       "      <th>4</th>\n",
       "      <td>Bromley</td>\n",
       "      <td>0.244213</td>\n",
       "    </tr>\n",
       "  </tbody>\n",
       "</table>\n",
       "</div>"
      ],
      "text/plain": [
       "              Borough      2018\n",
       "0  Barking & Dagenham  0.204223\n",
       "1              Barnet  0.229453\n",
       "2              Bexley  0.235351\n",
       "3               Brent  0.204309\n",
       "4             Bromley  0.244213"
      ]
     },
     "execution_count": 28,
     "metadata": {},
     "output_type": "execute_result"
    }
   ],
   "source": [
    "df_ratios.rename(columns={'index':'Borough', 0:'2018'}, inplace=True)\n",
    "df_ratios.head()"
   ]
  },
  {
   "cell_type": "code",
   "execution_count": 29,
   "metadata": {},
   "outputs": [
    {
     "name": "stdout",
     "output_type": "stream",
     "text": [
      "                 Borough      2018\n",
      "17              Hounslow  0.251483\n",
      "26  Richmond upon Thames  0.249678\n",
      "14                Harrow  0.246354\n",
      "4                Bromley  0.244213\n",
      "28                Sutton  0.242806\n",
      "12  Hammersmith & Fulham  0.241674\n",
      "16            Hillingdon  0.238080\n",
      "7                Croydon  0.238033\n",
      "2                 Bexley  0.235351\n",
      "9                Enfield  0.234551\n",
      "20  Kingston upon Thames  0.234162\n",
      "8                 Ealing  0.231940\n",
      "15              Havering  0.231202\n",
      "1                 Barnet  0.229453\n",
      "25             Redbridge  0.223655\n"
     ]
    }
   ],
   "source": [
    "top15 = df_ratios.sort_values(by='2018',ascending=False).head(15)\n",
    "print(top15)"
   ]
  },
  {
   "cell_type": "code",
   "execution_count": 30,
   "metadata": {},
   "outputs": [
    {
     "data": {
      "text/plain": [
       "[Text(0, 0, 'Hounslow'),\n",
       " Text(1, 0, 'Richmond upon Thames'),\n",
       " Text(2, 0, 'Harrow'),\n",
       " Text(3, 0, 'Bromley'),\n",
       " Text(4, 0, 'Sutton'),\n",
       " Text(5, 0, 'Hammersmith & Fulham'),\n",
       " Text(6, 0, 'Hillingdon'),\n",
       " Text(7, 0, 'Croydon'),\n",
       " Text(8, 0, 'Bexley'),\n",
       " Text(9, 0, 'Enfield'),\n",
       " Text(10, 0, 'Kingston upon Thames'),\n",
       " Text(11, 0, 'Ealing'),\n",
       " Text(12, 0, 'Havering'),\n",
       " Text(13, 0, 'Barnet'),\n",
       " Text(14, 0, 'Redbridge')]"
      ]
     },
     "execution_count": 30,
     "metadata": {},
     "output_type": "execute_result"
    },
    {
     "data": {
      "image/png": "[encoded data removed]",
      "text/plain": [
       "<Figure size 432x288 with 1 Axes>"
      ]
     },
     "metadata": {
      "needs_background": "light"
     },
     "output_type": "display_data"
    }
   ],
   "source": [
    "ax = top15[['Borough','2018']].plot(kind='bar')\n",
    "\n",
    "ax.set_xticklabels(top15.Borough)"
   ]
  },
  {
   "cell_type": "markdown",
   "metadata": {
    "colab_type": "text",
    "id": "NzYUI7FxJpgv"
   },
   "source": [
    "### 4. Conclusion\n",
    "What can you conclude? Type out your conclusion below. \n",
    "\n",
    "Look back at your notebook. Think about how you might summarize what you have done, and prepare a quick presentation on it to your mentor at your next meeting. \n",
    "\n",
    "We hope you enjoyed this practical project. It should have consolidated your data hygiene and pandas skills by looking at a real-world problem involving just the kind of dataset you might encounter as a budding data scientist. Congratulations, and looking forward to seeing you at the next step in the course! "
   ]
  },
  {
   "cell_type": "code",
   "execution_count": 34,
   "metadata": {},
   "outputs": [
    {
     "name": "stdout",
     "output_type": "stream",
     "text": [
      "1. I can copy and paste from another notebook. \n",
      "2. I can debug errors fairly well\n",
      "3. The datacamp exercises did not prepare me for this well at all\n",
      "4. I have no idea what the expectation levels are for competence.\n"
     ]
    }
   ],
   "source": [
    "print(\"\"\"1. I can copy and paste from another notebook. \n",
    "2. I can debug errors fairly well\n",
    "3. The datacamp exercises did not prepare me for this well at all\n",
    "4. I have no idea what the expectation levels are for competence.\"\"\")"
   ]
  },
  {
   "cell_type": "code",
   "execution_count": 3,
   "metadata": {},
   "outputs": [
    {
     "name": "stdout",
     "output_type": "stream",
     "text": [
      "5. Hunslow borough had the greatest increase in avg price between the start of the data and the end of the data.\n"
     ]
    }
   ],
   "source": [
    "print(\"5. Hunslow borough had the greatest increase in avg price between the start of the data and the end of the data.\")"
   ]
  },
  {
   "cell_type": "code",
   "execution_count": 4,
   "metadata": {},
   "outputs": [
    {
     "name": "stdout",
     "output_type": "stream",
     "text": [
      "Will adding this cell trigger a save?\n"
     ]
    }
   ],
   "source": [
    "print(\"Will adding this cell trigger a save?\")\n",
    "print(\"I\")"
   ]
  }
 ],
 "metadata": {
  "colab": {
   "collapsed_sections": [],
   "name": "Springboard Data Science Career Track Unit 4 Challenge - Tier 3 Complete .ipynb",
   "provenance": []
  },
  "kernelspec": {
   "display_name": "Python 3",
   "language": "python",
   "name": "python3"
  },
  "language_info": {
   "codemirror_mode": {
    "name": "ipython",
    "version": 3
   },
   "file_extension": ".py",
   "mimetype": "text/x-python",
   "name": "python",
   "nbconvert_exporter": "python",
   "pygments_lexer": "ipython3",
   "version": "3.9.1"
  }
 },
 "nbformat": 4,
 "nbformat_minor": 1
}
